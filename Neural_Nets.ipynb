{
 "cells": [
  {
   "cell_type": "markdown",
   "metadata": {},
   "source": [
    "# Neural Nets to Predict Authentication of Bank Notes"
   ]
  },
  {
   "cell_type": "code",
   "execution_count": 6,
   "metadata": {},
   "outputs": [],
   "source": [
    "#install.packages(\"neuralnet\", repos='http://cran.us.r-project.org')"
   ]
  },
  {
   "cell_type": "code",
   "execution_count": 1,
   "metadata": {},
   "outputs": [
    {
     "data": {
      "text/html": [
       "<table>\n",
       "<thead><tr><th scope=col>Image.Var</th><th scope=col>Image.Skew</th><th scope=col>Image.Curt</th><th scope=col>Entropy</th><th scope=col>Class</th></tr></thead>\n",
       "<tbody>\n",
       "\t<tr><td>3.62160 </td><td> 8.6661 </td><td>-2.8073 </td><td>-0.44699</td><td>0       </td></tr>\n",
       "\t<tr><td>4.54590 </td><td> 8.1674 </td><td>-2.4586 </td><td>-1.46210</td><td>0       </td></tr>\n",
       "\t<tr><td>3.86600 </td><td>-2.6383 </td><td> 1.9242 </td><td> 0.10645</td><td>0       </td></tr>\n",
       "\t<tr><td>3.45660 </td><td> 9.5228 </td><td>-4.0112 </td><td>-3.59440</td><td>0       </td></tr>\n",
       "\t<tr><td>0.32924 </td><td>-4.4552 </td><td> 4.5718 </td><td>-0.98880</td><td>0       </td></tr>\n",
       "\t<tr><td>4.36840 </td><td> 9.6718 </td><td>-3.9606 </td><td>-3.16250</td><td>0       </td></tr>\n",
       "</tbody>\n",
       "</table>\n"
      ],
      "text/latex": [
       "\\begin{tabular}{r|lllll}\n",
       " Image.Var & Image.Skew & Image.Curt & Entropy & Class\\\\\n",
       "\\hline\n",
       "\t 3.62160  &  8.6661  & -2.8073  & -0.44699 & 0       \\\\\n",
       "\t 4.54590  &  8.1674  & -2.4586  & -1.46210 & 0       \\\\\n",
       "\t 3.86600  & -2.6383  &  1.9242  &  0.10645 & 0       \\\\\n",
       "\t 3.45660  &  9.5228  & -4.0112  & -3.59440 & 0       \\\\\n",
       "\t 0.32924  & -4.4552  &  4.5718  & -0.98880 & 0       \\\\\n",
       "\t 4.36840  &  9.6718  & -3.9606  & -3.16250 & 0       \\\\\n",
       "\\end{tabular}\n"
      ],
      "text/markdown": [
       "\n",
       "| Image.Var | Image.Skew | Image.Curt | Entropy | Class |\n",
       "|---|---|---|---|---|\n",
       "| 3.62160  |  8.6661  | -2.8073  | -0.44699 | 0        |\n",
       "| 4.54590  |  8.1674  | -2.4586  | -1.46210 | 0        |\n",
       "| 3.86600  | -2.6383  |  1.9242  |  0.10645 | 0        |\n",
       "| 3.45660  |  9.5228  | -4.0112  | -3.59440 | 0        |\n",
       "| 0.32924  | -4.4552  |  4.5718  | -0.98880 | 0        |\n",
       "| 4.36840  |  9.6718  | -3.9606  | -3.16250 | 0        |\n",
       "\n"
      ],
      "text/plain": [
       "  Image.Var Image.Skew Image.Curt Entropy  Class\n",
       "1 3.62160    8.6661    -2.8073    -0.44699 0    \n",
       "2 4.54590    8.1674    -2.4586    -1.46210 0    \n",
       "3 3.86600   -2.6383     1.9242     0.10645 0    \n",
       "4 3.45660    9.5228    -4.0112    -3.59440 0    \n",
       "5 0.32924   -4.4552     4.5718    -0.98880 0    \n",
       "6 4.36840    9.6718    -3.9606    -3.16250 0    "
      ]
     },
     "metadata": {},
     "output_type": "display_data"
    },
    {
     "name": "stdout",
     "output_type": "stream",
     "text": [
      "'data.frame':\t1372 obs. of  5 variables:\n",
      " $ Image.Var : num  3.622 4.546 3.866 3.457 0.329 ...\n",
      " $ Image.Skew: num  8.67 8.17 -2.64 9.52 -4.46 ...\n",
      " $ Image.Curt: num  -2.81 -2.46 1.92 -4.01 4.57 ...\n",
      " $ Entropy   : num  -0.447 -1.462 0.106 -3.594 -0.989 ...\n",
      " $ Class     : int  0 0 0 0 0 0 0 0 0 0 ...\n"
     ]
    }
   ],
   "source": [
    "df <- read.csv('bank_note_data.csv')\n",
    "head(df)\n",
    "str(df)"
   ]
  },
  {
   "cell_type": "markdown",
   "metadata": {},
   "source": [
    "## Train Test Split"
   ]
  },
  {
   "cell_type": "code",
   "execution_count": 3,
   "metadata": {},
   "outputs": [
    {
     "name": "stdout",
     "output_type": "stream",
     "text": [
      "'data.frame':\t960 obs. of  5 variables:\n",
      " $ Image.Var : num  3.622 4.546 3.866 3.457 0.329 ...\n",
      " $ Image.Skew: num  8.67 8.17 -2.64 9.52 -4.46 ...\n",
      " $ Image.Curt: num  -2.81 -2.46 1.92 -4.01 4.57 ...\n",
      " $ Entropy   : num  -0.447 -1.462 0.106 -3.594 -0.989 ...\n",
      " $ Class     : int  0 0 0 0 0 0 0 0 0 0 ...\n"
     ]
    }
   ],
   "source": [
    "library(caTools)\n",
    "split <- sample.split(df$Class, SplitRatio = 0.7)\n",
    "train <- subset(df, split==T)\n",
    "test <- subset(df, split==F)\n",
    "str(train)"
   ]
  },
  {
   "cell_type": "markdown",
   "metadata": {},
   "source": [
    "## Build Neural Net"
   ]
  },
  {
   "cell_type": "code",
   "execution_count": 7,
   "metadata": {},
   "outputs": [],
   "source": [
    "library(neuralnet)\n",
    "nn <- neuralnet(Class ~ Image.Var + Image.Skew + Image.Curt + Entropy,data=train,hidden=10,linear.output=FALSE)"
   ]
  },
  {
   "cell_type": "markdown",
   "metadata": {},
   "source": [
    "## Predictions"
   ]
  },
  {
   "cell_type": "code",
   "execution_count": 8,
   "metadata": {},
   "outputs": [
    {
     "data": {
      "text/html": [
       "<table>\n",
       "<tbody>\n",
       "\t<tr><th scope=row>7</th><td>0.0001263808</td></tr>\n",
       "\t<tr><th scope=row>12</th><td>0.0009835717</td></tr>\n",
       "\t<tr><th scope=row>16</th><td>0.0003676452</td></tr>\n",
       "\t<tr><th scope=row>22</th><td>0.0203122111</td></tr>\n",
       "\t<tr><th scope=row>24</th><td>0.0001050064</td></tr>\n",
       "\t<tr><th scope=row>27</th><td>0.0003315985</td></tr>\n",
       "</tbody>\n",
       "</table>\n"
      ],
      "text/latex": [
       "\\begin{tabular}{r|l}\n",
       "\t7 & 0.0001263808\\\\\n",
       "\t12 & 0.0009835717\\\\\n",
       "\t16 & 0.0003676452\\\\\n",
       "\t22 & 0.0203122111\\\\\n",
       "\t24 & 0.0001050064\\\\\n",
       "\t27 & 0.0003315985\\\\\n",
       "\\end{tabular}\n"
      ],
      "text/markdown": [
       "\n",
       "| 7 | 0.0001263808 |\n",
       "| 12 | 0.0009835717 |\n",
       "| 16 | 0.0003676452 |\n",
       "| 22 | 0.0203122111 |\n",
       "| 24 | 0.0001050064 |\n",
       "| 27 | 0.0003315985 |\n",
       "\n"
      ],
      "text/plain": [
       "   [,1]        \n",
       "7  0.0001263808\n",
       "12 0.0009835717\n",
       "16 0.0003676452\n",
       "22 0.0203122111\n",
       "24 0.0001050064\n",
       "27 0.0003315985"
      ]
     },
     "metadata": {},
     "output_type": "display_data"
    },
    {
     "data": {
      "text/html": [
       "<ol class=list-inline>\n",
       "\t<li>0</li>\n",
       "\t<li>0</li>\n",
       "\t<li>0</li>\n",
       "\t<li>0</li>\n",
       "\t<li>0</li>\n",
       "\t<li>0</li>\n",
       "</ol>\n"
      ],
      "text/latex": [
       "\\begin{enumerate*}\n",
       "\\item 0\n",
       "\\item 0\n",
       "\\item 0\n",
       "\\item 0\n",
       "\\item 0\n",
       "\\item 0\n",
       "\\end{enumerate*}\n"
      ],
      "text/markdown": [
       "1. 0\n",
       "2. 0\n",
       "3. 0\n",
       "4. 0\n",
       "5. 0\n",
       "6. 0\n",
       "\n",
       "\n"
      ],
      "text/plain": [
       "[1] 0 0 0 0 0 0"
      ]
     },
     "metadata": {},
     "output_type": "display_data"
    }
   ],
   "source": [
    "predicted_nn_vals <- compute(nn,test[,1:4])\n",
    "head(predicted_nn_vals$net.result) #change the class to 0 and 1s\n",
    "predictions <- sapply(predicted_nn_vals$net.result, round)\n",
    "head(predictions)"
   ]
  },
  {
   "cell_type": "code",
   "execution_count": 9,
   "metadata": {},
   "outputs": [
    {
     "data": {
      "text/plain": [
       "           \n",
       "predictions   0   1\n",
       "          0 226   0\n",
       "          1   3 183"
      ]
     },
     "metadata": {},
     "output_type": "display_data"
    }
   ],
   "source": [
    "#use table() to product confusion matrix\n",
    "table(predictions, test$Class)"
   ]
  },
  {
   "cell_type": "markdown",
   "metadata": {},
   "source": [
    "Pretty good predictions... compare to another model to double check."
   ]
  },
  {
   "cell_type": "markdown",
   "metadata": {},
   "source": [
    "## Compare to Random Forest Model"
   ]
  },
  {
   "cell_type": "code",
   "execution_count": 11,
   "metadata": {},
   "outputs": [],
   "source": [
    "library(randomForest)\n",
    "df$Class <- factor(df$Class)\n",
    "library(caTools)\n",
    "set.seed(101)\n",
    "split = sample.split(df$Class, SplitRatio = 0.70)\n",
    "train = subset(df, split == TRUE)\n",
    "test = subset(df, split == FALSE)"
   ]
  },
  {
   "cell_type": "code",
   "execution_count": 12,
   "metadata": {},
   "outputs": [
    {
     "data": {
      "text/plain": [
       "       \n",
       "rf_pred   0   1\n",
       "      0 227   1\n",
       "      1   2 182"
      ]
     },
     "metadata": {},
     "output_type": "display_data"
    }
   ],
   "source": [
    "rf_model <- randomForest(Class ~., data=train)\n",
    "rf_pred <- predict(rf_model, test)\n",
    "table(rf_pred, test$Class)"
   ]
  },
  {
   "cell_type": "markdown",
   "metadata": {},
   "source": [
    "Very close to NN model predictions."
   ]
  }
 ],
 "metadata": {
  "kernelspec": {
   "display_name": "R",
   "language": "R",
   "name": "ir"
  },
  "language_info": {
   "codemirror_mode": "r",
   "file_extension": ".r",
   "mimetype": "text/x-r-source",
   "name": "R",
   "pygments_lexer": "r",
   "version": "3.6.1"
  }
 },
 "nbformat": 4,
 "nbformat_minor": 4
}
